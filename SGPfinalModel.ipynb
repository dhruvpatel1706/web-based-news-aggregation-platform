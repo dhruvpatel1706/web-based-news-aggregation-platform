{
  "nbformat": 4,
  "nbformat_minor": 0,
  "metadata": {
    "accelerator": "GPU",
    "colab": {
      "name": "SGPfinalModel.ipynb",
      "provenance": []
    },
    "kernelspec": {
      "display_name": "Python 3",
      "name": "python3"
    },
    "language_info": {
      "name": "python"
    }
  },
  "cells": [
    {
      "cell_type": "code",
      "metadata": {
        "colab": {
          "base_uri": "https://localhost:8080/"
        },
        "id": "UULr46l2yfuN",
        "outputId": "e05271b0-f9f9-4b4d-c659-95caa1e92bc6"
      },
      "source": [
        "from google.colab import drive\n",
        "drive.mount('/gdrive')"
      ],
      "execution_count": null,
      "outputs": [
        {
          "output_type": "stream",
          "text": [
            "Mounted at /gdrive\n"
          ],
          "name": "stdout"
        }
      ]
    },
    {
      "cell_type": "code",
      "metadata": {
        "colab": {
          "base_uri": "https://localhost:8080/"
        },
        "id": "bk6qYVqjywVY",
        "outputId": "930c6044-9a6c-471d-f752-08a800d156fa"
      },
      "source": [
        "cd 'drive/MyDrive/Colab Notebooks/NewsClassification'"
      ],
      "execution_count": null,
      "outputs": [
        {
          "output_type": "stream",
          "text": [
            "/content/drive/MyDrive/Colab Notebooks/NewsClassification\n"
          ],
          "name": "stdout"
        }
      ]
    },
    {
      "cell_type": "code",
      "metadata": {
        "id": "atlJitlezo6K"
      },
      "source": [
        "import os\n",
        "import re\n",
        "import sys\n",
        "import json\n",
        "import numpy as np\n",
        "import matplotlib.pyplot as plt\n",
        "import seaborn as sns; sns.set()\n",
        "from nltk.tokenize import word_tokenize\n",
        "from nltk.corpus import stopwords\n",
        "from sklearn.preprocessing import OneHotEncoder\n",
        "from sklearn.model_selection import train_test_split\n",
        "from sklearn.metrics import confusion_matrix\n",
        "from keras.preprocessing import sequence\n",
        "from keras.preprocessing.text import Tokenizer\n",
        "from keras.models import Sequential\n",
        "from keras.layers import Dense, LSTM\n",
        "from keras.layers.embeddings import Embedding\n",
        "from tensorflow.keras.preprocessing.text import one_hot"
      ],
      "execution_count": null,
      "outputs": []
    },
    {
      "cell_type": "code",
      "metadata": {
        "id": "Q5JJQ0iNy4x5"
      },
      "source": [
        "def read_json(path):\n",
        "    file_contents = list()\n",
        "    f = open(path)\n",
        "    data = json.load(f)\n",
        "    for i in range(500):\n",
        "            file_contents.append(data[\"Content\"][str(i)])\n",
        "    \n",
        "    return file_contents\n",
        "def read_files(path):\n",
        "    file_contents = list()\n",
        "    filenames = os.listdir(path)\n",
        "    \n",
        "    for i in range(len(filenames)):\n",
        "        with open(path+filenames[i],errors='ignore') as f:\n",
        "            file_contents.append(f.read())\n",
        "    \n",
        "    return file_contents"
      ],
      "execution_count": null,
      "outputs": []
    },
    {
      "cell_type": "code",
      "metadata": {
        "id": "rZHqqiE4zDm3"
      },
      "source": [
        "class_0 = read_json(\"army.json\")\n",
        "class_1 = read_json(\"business.json\")\n",
        "class_2 = read_json(\"politics.json\")\n",
        "class_3 = read_files('tech/')\n",
        "class_4 = read_files('sport/')"
      ],
      "execution_count": null,
      "outputs": []
    },
    {
      "cell_type": "code",
      "metadata": {
        "colab": {
          "base_uri": "https://localhost:8080/"
        },
        "id": "pdVyuJw20pcV",
        "outputId": "ead92f26-37c5-4171-c241-94479556a7d1"
      },
      "source": [
        "print(len(class_0))\n",
        "print(len(class_1))\n",
        "print(len(class_2))\n",
        "print(len(class_3))\n",
        "print(len(class_4))"
      ],
      "execution_count": null,
      "outputs": [
        {
          "output_type": "stream",
          "text": [
            "500\n",
            "500\n",
            "500\n",
            "401\n",
            "511\n"
          ],
          "name": "stdout"
        }
      ]
    },
    {
      "cell_type": "code",
      "metadata": {
        "id": "qUNQj4uP1B1-"
      },
      "source": [
        "all_texts = np.append(class_0, class_1)\n",
        "all_texts = np.append(all_texts, class_2)\n",
        "all_texts = np.append(all_texts, class_3)\n",
        "all_texts = np.append(all_texts, class_4)\n"
      ],
      "execution_count": null,
      "outputs": []
    },
    {
      "cell_type": "code",
      "metadata": {
        "colab": {
          "base_uri": "https://localhost:8080/",
          "height": 296
        },
        "id": "VzyODOTM1QC4",
        "outputId": "46510c0d-e596-4fa1-be06-4ebd026e031e"
      },
      "source": [
        "import nltk\n",
        "nltk.download('stopwords')\n",
        "nltk.download('punkt')\n",
        "stop_words = set(stopwords.words('english'))\n",
        "def clean(text):\n",
        "    # Lowering letters\n",
        "    text = text.lower()\n",
        "    # Removing html tags\n",
        "    text = re.sub('<[^>]*>', '', text)\n",
        "    # Removing emails\n",
        "    text = re.sub('\\S*@\\S*\\s?', '', text)\n",
        "    # Removing urls\n",
        "    text = re.sub('https?://[A-Za-z0-9]','',text)\n",
        "    # Removing numbers\n",
        "    text = re.sub('[^a-zA-Z]',' ',text)\n",
        "    word_tokens = word_tokenize(text)    \n",
        "    filtered_sentence = []\n",
        "    for word_token in word_tokens:\n",
        "        if word_token not in stop_words:\n",
        "            filtered_sentence.append(word_token)\n",
        "    \n",
        "    # Joining words\n",
        "    text = (' '.join(filtered_sentence))\n",
        "    return text"
      ],
      "execution_count": null,
      "outputs": [
        {
          "output_type": "stream",
          "text": [
            "[nltk_data] Downloading package stopwords to /root/nltk_data...\n",
            "[nltk_data]   Unzipping corpora/stopwords.zip.\n",
            "[nltk_data] Downloading package punkt to /root/nltk_data...\n",
            "[nltk_data]   Unzipping tokenizers/punkt.zip.\n"
          ],
          "name": "stdout"
        },
        {
          "output_type": "error",
          "ename": "NameError",
          "evalue": "ignored",
          "traceback": [
            "\u001b[0;31m---------------------------------------------------------------------------\u001b[0m",
            "\u001b[0;31mNameError\u001b[0m                                 Traceback (most recent call last)",
            "\u001b[0;32m<ipython-input-1-97c223b09c0c>\u001b[0m in \u001b[0;36m<module>\u001b[0;34m()\u001b[0m\n\u001b[1;32m      2\u001b[0m \u001b[0mnltk\u001b[0m\u001b[0;34m.\u001b[0m\u001b[0mdownload\u001b[0m\u001b[0;34m(\u001b[0m\u001b[0;34m'stopwords'\u001b[0m\u001b[0;34m)\u001b[0m\u001b[0;34m\u001b[0m\u001b[0;34m\u001b[0m\u001b[0m\n\u001b[1;32m      3\u001b[0m \u001b[0mnltk\u001b[0m\u001b[0;34m.\u001b[0m\u001b[0mdownload\u001b[0m\u001b[0;34m(\u001b[0m\u001b[0;34m'punkt'\u001b[0m\u001b[0;34m)\u001b[0m\u001b[0;34m\u001b[0m\u001b[0;34m\u001b[0m\u001b[0m\n\u001b[0;32m----> 4\u001b[0;31m \u001b[0mstop_words\u001b[0m \u001b[0;34m=\u001b[0m \u001b[0mset\u001b[0m\u001b[0;34m(\u001b[0m\u001b[0mstopwords\u001b[0m\u001b[0;34m.\u001b[0m\u001b[0mwords\u001b[0m\u001b[0;34m(\u001b[0m\u001b[0;34m'english'\u001b[0m\u001b[0;34m)\u001b[0m\u001b[0;34m)\u001b[0m\u001b[0;34m\u001b[0m\u001b[0;34m\u001b[0m\u001b[0m\n\u001b[0m\u001b[1;32m      5\u001b[0m \u001b[0;32mdef\u001b[0m \u001b[0mclean\u001b[0m\u001b[0;34m(\u001b[0m\u001b[0mtext\u001b[0m\u001b[0;34m)\u001b[0m\u001b[0;34m:\u001b[0m\u001b[0;34m\u001b[0m\u001b[0;34m\u001b[0m\u001b[0m\n\u001b[1;32m      6\u001b[0m     \u001b[0;31m# Lowering letters\u001b[0m\u001b[0;34m\u001b[0m\u001b[0;34m\u001b[0m\u001b[0;34m\u001b[0m\u001b[0m\n",
            "\u001b[0;31mNameError\u001b[0m: name 'stopwords' is not defined"
          ]
        }
      ]
    },
    {
      "cell_type": "code",
      "metadata": {
        "id": "uV9skJ8_1UnZ"
      },
      "source": [
        "all_cleaned_texts = np.array([clean(text) for text in all_texts])"
      ],
      "execution_count": null,
      "outputs": []
    },
    {
      "cell_type": "code",
      "metadata": {
        "id": "U3aj7ppe1Y4l"
      },
      "source": [
        "tokenizer = Tokenizer()\n",
        "tokenizer.fit_on_texts(all_cleaned_texts)"
      ],
      "execution_count": null,
      "outputs": []
    },
    {
      "cell_type": "code",
      "metadata": {
        "colab": {
          "base_uri": "https://localhost:8080/"
        },
        "id": "uTgQmH_w1djF",
        "outputId": "8ad8bd38-6b42-40b8-e055-f34336c25996"
      },
      "source": [
        "import pickle\n",
        "with open('tokenizer.pickle', 'wb') as handle:\n",
        "    pickle.dump(tokenizer, handle, protocol=pickle.HIGHEST_PROTOCOL)\n",
        "\n",
        "# loading\n",
        "with open('tokenizer.pickle', 'rb') as handle:\n",
        "    tokenizer = pickle.load(handle)\n",
        "num_words = len(tokenizer.word_index)\n",
        "print(num_words)"
      ],
      "execution_count": null,
      "outputs": [
        {
          "output_type": "stream",
          "text": [
            "32447\n"
          ],
          "name": "stdout"
        }
      ]
    },
    {
      "cell_type": "code",
      "metadata": {
        "id": "mrtDLwwp1iP2"
      },
      "source": [
        "max_len = 300"
      ],
      "execution_count": null,
      "outputs": []
    },
    {
      "cell_type": "code",
      "metadata": {
        "id": "DGihO0TN1-8R"
      },
      "source": [
        "from tensorflow.keras.preprocessing.sequence import pad_sequences\n",
        "all_cleaned_sequences = tokenizer.texts_to_sequences(all_cleaned_texts)\n",
        "all_cleaned_padded = pad_sequences(\n",
        "    all_cleaned_sequences, maxlen=max_len, padding=\"pre\", truncating=\"post\"\n",
        ")"
      ],
      "execution_count": null,
      "outputs": []
    },
    {
      "cell_type": "code",
      "metadata": {
        "colab": {
          "base_uri": "https://localhost:8080/"
        },
        "id": "WHT_Fzb52SuH",
        "outputId": "6d107d66-e177-4616-cca9-2978a5ca9c37"
      },
      "source": [
        "all_cleaned_padded"
      ],
      "execution_count": null,
      "outputs": [
        {
          "output_type": "execute_result",
          "data": {
            "text/plain": [
              "array([[    0,     0,     0, ...,    86,   840,   405],\n",
              "       [    0,     0,     0, ...,    11,  2729,   904],\n",
              "       [    0,     0,     0, ...,   109,  5802, 14224],\n",
              "       ...,\n",
              "       [    0,     0,     0, ...,  1307,  2380,  1424],\n",
              "       [    0,     0,     0, ...,  1100,  2043,    56],\n",
              "       [  205,  2419,    25, ...,    18, 18114,  3815]], dtype=int32)"
            ]
          },
          "metadata": {
            "tags": []
          },
          "execution_count": 14
        }
      ]
    },
    {
      "cell_type": "code",
      "metadata": {
        "colab": {
          "base_uri": "https://localhost:8080/"
        },
        "id": "augHqktw2ctp",
        "outputId": "17d77351-e1a4-4407-be24-da777a6c2855"
      },
      "source": [
        "word_index = tokenizer.word_index\n",
        "print(\"Number of unique words:\", len(word_index))"
      ],
      "execution_count": null,
      "outputs": [
        {
          "output_type": "stream",
          "text": [
            "Number of unique words: 32447\n"
          ],
          "name": "stdout"
        }
      ]
    },
    {
      "cell_type": "code",
      "metadata": {
        "id": "wkIVabFC2ijy"
      },
      "source": [
        "embedding_dict = {}\n",
        "f = open(r'glove.840B.300d.txt', encoding=\"utf8\", mode=\"r\")\n",
        "for line in f:\n",
        "    values = line.split()\n",
        "    word = ''.join(values[:-300])\n",
        "    coefs = np.asarray(values[-300:], dtype='float32')\n",
        "    embedding_dict[word] = coefs\n",
        "f.close()"
      ],
      "execution_count": null,
      "outputs": []
    },
    {
      "cell_type": "code",
      "metadata": {
        "id": "UDhtCCo82l56"
      },
      "source": [
        "num_words = len(word_index) + 1\n",
        "embedding_matrix = np.zeros((num_words, 300))\n",
        "\n",
        "for word, i in word_index.items():\n",
        "    if i < num_words:\n",
        "        emb_vec = embedding_dict.get(word)\n",
        "        if emb_vec is not None:\n",
        "            embedding_matrix[i] = emb_vec"
      ],
      "execution_count": null,
      "outputs": []
    },
    {
      "cell_type": "code",
      "metadata": {
        "id": "1zdaGcR42tWw"
      },
      "source": [
        "labels_0 = np.array([0] * len(class_0))\n",
        "labels_1 = np.array([1] * len(class_1))\n",
        "labels_2 = np.array([2] * len(class_2))\n",
        "labels_3 = np.array([3] * len(class_3))\n",
        "labels_4 = np.array([4] * len(class_4))"
      ],
      "execution_count": null,
      "outputs": []
    },
    {
      "cell_type": "code",
      "metadata": {
        "id": "ka562Gyk27xh"
      },
      "source": [
        "all_labels = np.append(labels_0, labels_1)\n",
        "all_labels = np.append(all_labels, labels_2)\n",
        "all_labels = np.append(all_labels, labels_3)\n",
        "all_labels = np.append(all_labels, labels_4)"
      ],
      "execution_count": null,
      "outputs": []
    },
    {
      "cell_type": "code",
      "metadata": {
        "id": "1zZPOUXw3cEh"
      },
      "source": [
        "all_labels = all_labels[:, np.newaxis]\n",
        "one_hot_encoder = OneHotEncoder(sparse=False)\n",
        "all_labels = one_hot_encoder.fit_transform(all_labels)"
      ],
      "execution_count": null,
      "outputs": []
    },
    {
      "cell_type": "code",
      "metadata": {
        "id": "evP9D7IHVs_7"
      },
      "source": [
        "import pickle\n",
        "with open(\"encoder\", \"wb\") as f: \n",
        "    pickle.dump(one_hot_encoder, f)"
      ],
      "execution_count": null,
      "outputs": []
    },
    {
      "cell_type": "code",
      "metadata": {
        "colab": {
          "base_uri": "https://localhost:8080/"
        },
        "id": "4WcHu09B3f_z",
        "outputId": "b742609b-f609-4256-df2d-12c26e2d56b0"
      },
      "source": [
        "print(all_labels[0])"
      ],
      "execution_count": null,
      "outputs": [
        {
          "output_type": "stream",
          "text": [
            "[1. 0. 0. 0. 0.]\n"
          ],
          "name": "stdout"
        }
      ]
    },
    {
      "cell_type": "code",
      "metadata": {
        "id": "pzoUtZk73jPi"
      },
      "source": [
        "X_train, X_test, y_train, y_test = train_test_split(all_cleaned_padded, all_labels, test_size=0.1, random_state=11)"
      ],
      "execution_count": null,
      "outputs": []
    },
    {
      "cell_type": "code",
      "metadata": {
        "id": "jqReKoeW3xD5"
      },
      "source": [
        "from keras.layers import *\n",
        "from keras.optimizers import Adam\n",
        "from keras.models import Sequential, Model\n",
        "from keras.regularizers import l1_l2\n",
        "from keras.callbacks import ModelCheckpoint, EarlyStopping, ReduceLROnPlateau\n",
        "from keras.preprocessing.text import Tokenizer\n",
        "from keras.preprocessing.sequence import pad_sequences\n",
        "from keras.metrics import categorical_accuracy\n",
        "from keras.models import load_model\n",
        "from keras import regularizers\n",
        "from keras.utils.vis_utils import plot_model\n",
        "from keras import backend as K"
      ],
      "execution_count": null,
      "outputs": []
    },
    {
      "cell_type": "code",
      "metadata": {
        "colab": {
          "base_uri": "https://localhost:8080/"
        },
        "id": "LKQ4r64j4AkG",
        "outputId": "e404cfdc-74f7-4a27-8ab7-d635a0850855"
      },
      "source": [
        "def repeat(x):\n",
        "  return K.repeat_elements(x, rep=100, axis=-1)\n",
        "def sum_along_axis(x):\n",
        "  return K.sum(x, axis=1)\n",
        "inp = Input(shape=(max_len,))\n",
        "embed = Embedding(input_dim=num_words, output_dim=300, weights=[embedding_matrix], input_length=max_len,trainable=True)(inp)\n",
        "  # if rnn == 'gru':\n",
        "  #   lstm = GRU(hidden_dim, return_sequences=True, dropout=0.2)(embed)\n",
        "  # else:  \n",
        "lstm = LSTM(100, return_sequences=True, recurrent_dropout=0.2, dropout=0.2)(embed)\n",
        "wis = TimeDistributed(Dense(1, activation='sigmoid'))(lstm)\n",
        "wis = Lambda(repeat)(wis)\n",
        "wd = Multiply()([lstm, wis])\n",
        "wd = Lambda(sum_along_axis)(wd)\n",
        "d = Dense(100, activation='relu', kernel_regularizer=regularizers.l2(0.01))(wd)\n",
        "d = Dropout(0.2)(d)\n",
        "out = Dense(5, activation='softmax')(d)\n",
        "model_wrnn = Model(inputs = inp, outputs = out)\n",
        "print(model_wrnn.summary())"
      ],
      "execution_count": null,
      "outputs": [
        {
          "output_type": "stream",
          "text": [
            "WARNING:tensorflow:Layer lstm_1 will not use cuDNN kernel since it doesn't meet the cuDNN kernel criteria. It will use generic GPU kernel as fallback when running on GPU\n",
            "Model: \"model_1\"\n",
            "__________________________________________________________________________________________________\n",
            "Layer (type)                    Output Shape         Param #     Connected to                     \n",
            "==================================================================================================\n",
            "input_2 (InputLayer)            [(None, 300)]        0                                            \n",
            "__________________________________________________________________________________________________\n",
            "embedding_1 (Embedding)         (None, 300, 300)     9734400     input_2[0][0]                    \n",
            "__________________________________________________________________________________________________\n",
            "lstm_1 (LSTM)                   (None, 300, 100)     160400      embedding_1[0][0]                \n",
            "__________________________________________________________________________________________________\n",
            "time_distributed_1 (TimeDistrib (None, 300, 1)       101         lstm_1[0][0]                     \n",
            "__________________________________________________________________________________________________\n",
            "lambda_2 (Lambda)               (None, 300, 100)     0           time_distributed_1[0][0]         \n",
            "__________________________________________________________________________________________________\n",
            "multiply_1 (Multiply)           (None, 300, 100)     0           lstm_1[0][0]                     \n",
            "                                                                 lambda_2[0][0]                   \n",
            "__________________________________________________________________________________________________\n",
            "lambda_3 (Lambda)               (None, 100)          0           multiply_1[0][0]                 \n",
            "__________________________________________________________________________________________________\n",
            "dense_4 (Dense)                 (None, 100)          10100       lambda_3[0][0]                   \n",
            "__________________________________________________________________________________________________\n",
            "dropout_1 (Dropout)             (None, 100)          0           dense_4[0][0]                    \n",
            "__________________________________________________________________________________________________\n",
            "dense_5 (Dense)                 (None, 5)            505         dropout_1[0][0]                  \n",
            "==================================================================================================\n",
            "Total params: 9,905,506\n",
            "Trainable params: 9,905,506\n",
            "Non-trainable params: 0\n",
            "__________________________________________________________________________________________________\n",
            "None\n"
          ],
          "name": "stdout"
        }
      ]
    },
    {
      "cell_type": "code",
      "metadata": {
        "id": "h2Pqe0r54CoU"
      },
      "source": [
        "model_wrnn.compile(loss='categorical_crossentropy', optimizer=Adam(lr=0.01),metrics=['categorical_accuracy'])"
      ],
      "execution_count": null,
      "outputs": []
    },
    {
      "cell_type": "code",
      "metadata": {
        "colab": {
          "base_uri": "https://localhost:8080/"
        },
        "id": "ZDgIt2eS4L9N",
        "outputId": "53d3c8e5-3ae8-47e4-8352-55710467a7b0"
      },
      "source": [
        "train = model_wrnn.fit(X_train, y_train, epochs=20, batch_size=128, validation_data=(X_test, y_test))"
      ],
      "execution_count": null,
      "outputs": [
        {
          "output_type": "stream",
          "text": [
            "Epoch 1/20\n",
            "17/17 [==============================] - 28s 1s/step - loss: 14.5645 - categorical_accuracy: 0.4378 - val_loss: 1.6233 - val_categorical_accuracy: 0.8760\n",
            "Epoch 2/20\n",
            "17/17 [==============================] - 21s 1s/step - loss: 1.3470 - categorical_accuracy: 0.9231 - val_loss: 1.2627 - val_categorical_accuracy: 0.9339\n",
            "Epoch 3/20\n",
            "17/17 [==============================] - 21s 1s/step - loss: 1.0934 - categorical_accuracy: 0.9766 - val_loss: 1.1042 - val_categorical_accuracy: 0.9752\n",
            "Epoch 4/20\n",
            "17/17 [==============================] - 21s 1s/step - loss: 0.9785 - categorical_accuracy: 0.9931 - val_loss: 1.0435 - val_categorical_accuracy: 0.9752\n",
            "Epoch 5/20\n",
            "17/17 [==============================] - 21s 1s/step - loss: 0.8984 - categorical_accuracy: 0.9923 - val_loss: 0.9747 - val_categorical_accuracy: 0.9752\n",
            "Epoch 6/20\n",
            "17/17 [==============================] - 22s 1s/step - loss: 0.8063 - categorical_accuracy: 0.9982 - val_loss: 0.8979 - val_categorical_accuracy: 0.9752\n",
            "Epoch 7/20\n",
            "17/17 [==============================] - 22s 1s/step - loss: 0.7321 - categorical_accuracy: 0.9994 - val_loss: 0.8275 - val_categorical_accuracy: 0.9752\n",
            "Epoch 8/20\n",
            "17/17 [==============================] - 21s 1s/step - loss: 0.6638 - categorical_accuracy: 0.9990 - val_loss: 0.7810 - val_categorical_accuracy: 0.9752\n",
            "Epoch 9/20\n",
            "17/17 [==============================] - 21s 1s/step - loss: 0.6016 - categorical_accuracy: 0.9997 - val_loss: 0.7032 - val_categorical_accuracy: 0.9793\n",
            "Epoch 10/20\n",
            "17/17 [==============================] - 21s 1s/step - loss: 0.5479 - categorical_accuracy: 0.9985 - val_loss: 0.6464 - val_categorical_accuracy: 0.9835\n",
            "Epoch 11/20\n",
            "17/17 [==============================] - 21s 1s/step - loss: 0.4961 - categorical_accuracy: 0.9995 - val_loss: 0.5935 - val_categorical_accuracy: 0.9793\n",
            "Epoch 12/20\n",
            "17/17 [==============================] - 21s 1s/step - loss: 0.4504 - categorical_accuracy: 0.9990 - val_loss: 0.5511 - val_categorical_accuracy: 0.9793\n",
            "Epoch 13/20\n",
            "17/17 [==============================] - 21s 1s/step - loss: 0.4093 - categorical_accuracy: 0.9995 - val_loss: 0.5320 - val_categorical_accuracy: 0.9752\n",
            "Epoch 14/20\n",
            "17/17 [==============================] - 21s 1s/step - loss: 0.3737 - categorical_accuracy: 0.9993 - val_loss: 0.4748 - val_categorical_accuracy: 0.9876\n",
            "Epoch 15/20\n",
            "17/17 [==============================] - 21s 1s/step - loss: 0.3392 - categorical_accuracy: 0.9993 - val_loss: 0.4334 - val_categorical_accuracy: 0.9835\n",
            "Epoch 16/20\n",
            "17/17 [==============================] - 21s 1s/step - loss: 0.3094 - categorical_accuracy: 0.9994 - val_loss: 0.4141 - val_categorical_accuracy: 0.9876\n",
            "Epoch 17/20\n",
            "17/17 [==============================] - 21s 1s/step - loss: 0.2830 - categorical_accuracy: 0.9985 - val_loss: 0.3870 - val_categorical_accuracy: 0.9876\n",
            "Epoch 18/20\n",
            "17/17 [==============================] - 21s 1s/step - loss: 0.2584 - categorical_accuracy: 0.9993 - val_loss: 0.3478 - val_categorical_accuracy: 0.9835\n",
            "Epoch 19/20\n",
            "17/17 [==============================] - 21s 1s/step - loss: 0.2344 - categorical_accuracy: 0.9998 - val_loss: 0.3323 - val_categorical_accuracy: 0.9876\n",
            "Epoch 20/20\n",
            "17/17 [==============================] - 21s 1s/step - loss: 0.2146 - categorical_accuracy: 0.9997 - val_loss: 0.3085 - val_categorical_accuracy: 0.9835\n"
          ],
          "name": "stdout"
        }
      ]
    },
    {
      "cell_type": "code",
      "metadata": {
        "id": "TLE1wiIx4nmi"
      },
      "source": [
        "predictions = model_wrnn.predict(X_test)\n",
        "predictions = one_hot_encoder.inverse_transform(predictions)"
      ],
      "execution_count": null,
      "outputs": []
    },
    {
      "cell_type": "code",
      "metadata": {
        "id": "c340-LQd4oYp"
      },
      "source": [
        "y_test_evaluate = np.argmax(y_test, axis=1)"
      ],
      "execution_count": null,
      "outputs": []
    },
    {
      "cell_type": "code",
      "metadata": {
        "id": "qUUgqJPx4red"
      },
      "source": [
        "cm = confusion_matrix(y_test_evaluate, predictions)"
      ],
      "execution_count": null,
      "outputs": []
    },
    {
      "cell_type": "code",
      "metadata": {
        "colab": {
          "base_uri": "https://localhost:8080/",
          "height": 518
        },
        "id": "JZY14dQs4wB5",
        "outputId": "eaca9c3e-51e8-4d6f-bb61-ee8a7172f5c1"
      },
      "source": [
        "labels = ['army', 'buisness', 'politics', 'tech','sport']\n",
        "plt.figure(figsize=(8,8))\n",
        "plt.title('Confusion matrix on test data')\n",
        "sns.heatmap(cm, annot=True, fmt='d', xticklabels=labels, yticklabels=labels, \n",
        "            cmap=plt.cm.Blues, cbar=False, annot_kws={'size':14})\n",
        "plt.xlabel('Predicted Label')\n",
        "plt.ylabel('True Label')\n",
        "plt.show()"
      ],
      "execution_count": null,
      "outputs": [
        {
          "output_type": "display_data",
          "data": {
            "image/png": "[encoded data removed]",
            "text/plain": [
              "<Figure size 576x576 with 1 Axes>"
            ]
          },
          "metadata": {
            "tags": []
          }
        }
      ]
    },
    {
      "cell_type": "code",
      "metadata": {
        "id": "OYjV9Ahl8cvZ"
      },
      "source": [
        "model_wrnn.save('news_text_classification.h5')"
      ],
      "execution_count": null,
      "outputs": []
    },
    {
      "cell_type": "code",
      "metadata": {
        "colab": {
          "base_uri": "https://localhost:8080/"
        },
        "id": "KGmcaQcV8n9j",
        "outputId": "06f1a02e-1c8c-4e0c-9bdc-9abdf466a364"
      },
      "source": [
        "from keras.models import load_model\n",
        "model = load_model('news_text_classification.h5')\n",
        "model.summary()"
      ],
      "execution_count": null,
      "outputs": [
        {
          "output_type": "stream",
          "text": [
            "WARNING:tensorflow:Layer lstm_1 will not use cuDNN kernel since it doesn't meet the cuDNN kernel criteria. It will use generic GPU kernel as fallback when running on GPU\n",
            "Model: \"model_1\"\n",
            "__________________________________________________________________________________________________\n",
            "Layer (type)                    Output Shape         Param #     Connected to                     \n",
            "==================================================================================================\n",
            "input_2 (InputLayer)            [(None, 300)]        0                                            \n",
            "__________________________________________________________________________________________________\n",
            "embedding_1 (Embedding)         (None, 300, 300)     9734400     input_2[0][0]                    \n",
            "__________________________________________________________________________________________________\n",
            "lstm_1 (LSTM)                   (None, 300, 100)     160400      embedding_1[0][0]                \n",
            "__________________________________________________________________________________________________\n",
            "time_distributed_1 (TimeDistrib (None, 300, 1)       101         lstm_1[0][0]                     \n",
            "__________________________________________________________________________________________________\n",
            "lambda_2 (Lambda)               (None, 300, 100)     0           time_distributed_1[0][0]         \n",
            "__________________________________________________________________________________________________\n",
            "multiply_1 (Multiply)           (None, 300, 100)     0           lstm_1[0][0]                     \n",
            "                                                                 lambda_2[0][0]                   \n",
            "__________________________________________________________________________________________________\n",
            "lambda_3 (Lambda)               (None, 100)          0           multiply_1[0][0]                 \n",
            "__________________________________________________________________________________________________\n",
            "dense_4 (Dense)                 (None, 100)          10100       lambda_3[0][0]                   \n",
            "__________________________________________________________________________________________________\n",
            "dropout_1 (Dropout)             (None, 100)          0           dense_4[0][0]                    \n",
            "__________________________________________________________________________________________________\n",
            "dense_5 (Dense)                 (None, 5)            505         dropout_1[0][0]                  \n",
            "==================================================================================================\n",
            "Total params: 9,905,506\n",
            "Trainable params: 9,905,506\n",
            "Non-trainable params: 0\n",
            "__________________________________________________________________________________________________\n"
          ],
          "name": "stdout"
        }
      ]
    },
    {
      "cell_type": "code",
      "metadata": {
        "colab": {
          "base_uri": "https://localhost:8080/"
        },
        "id": "lTKeAI6yv1Sf",
        "outputId": "1ae9253a-cf4d-4221-8701-b5701c321869"
      },
      "source": [
        "model_json = model.to_json()\n",
        "with open(\"classifier.json\", \"w\") as json_file:\n",
        "    json_file.write(model_json)\n",
        "# serialize weights to HDF5\n",
        "model.save_weights(\"classifier.h5\")\n",
        "print(\"Saved model to disk\")"
      ],
      "execution_count": null,
      "outputs": [
        {
          "output_type": "stream",
          "text": [
            "Saved model to disk\n"
          ],
          "name": "stdout"
        }
      ]
    },
    {
      "cell_type": "code",
      "metadata": {
        "colab": {
          "base_uri": "https://localhost:8080/"
        },
        "id": "ggwxmgqRwPL4",
        "outputId": "b80f1ed2-9e28-4ccb-a3d1-7a633f5e9482"
      },
      "source": [
        "from keras.models import model_from_json\n",
        "json_file = open('classifier.json', 'r')\n",
        "loaded_model_json = json_file.read()\n",
        "json_file.close()\n",
        "loaded_model = model_from_json(loaded_model_json)\n",
        "# load weights into new model\n",
        "loaded_model.load_weights(\"classifier.h5\")\n",
        "print(\"Loaded model from disk\")"
      ],
      "execution_count": null,
      "outputs": [
        {
          "output_type": "stream",
          "text": [
            "WARNING:tensorflow:Layer lstm_1 will not use cuDNN kernel since it doesn't meet the cuDNN kernel criteria. It will use generic GPU kernel as fallback when running on GPU\n",
            "Loaded model from disk\n"
          ],
          "name": "stdout"
        }
      ]
    },
    {
      "cell_type": "code",
      "metadata": {
        "colab": {
          "base_uri": "https://localhost:8080/"
        },
        "id": "-Lsm0wi9G1eA",
        "outputId": "3b8c030b-2a92-4cb3-d21e-0ade509b68b2"
      },
      "source": [
        "X_test.shape"
      ],
      "execution_count": null,
      "outputs": [
        {
          "output_type": "execute_result",
          "data": {
            "text/plain": [
              "(242, 300)"
            ]
          },
          "metadata": {
            "tags": []
          },
          "execution_count": 55
        }
      ]
    },
    {
      "cell_type": "code",
      "metadata": {
        "colab": {
          "base_uri": "https://localhost:8080/"
        },
        "id": "s4iqur1eHkL7",
        "outputId": "f2501b5e-e35d-4396-f970-9419125aed61"
      },
      "source": [
        "test = X_test[0].reshape(1,300)\n",
        "predictions = model_wrnn.predict(test)\n",
        "predictions = one_hot_encoder.inverse_transform(predictions)\n",
        "predictions"
      ],
      "execution_count": null,
      "outputs": [
        {
          "output_type": "execute_result",
          "data": {
            "text/plain": [
              "array([[0]])"
            ]
          },
          "metadata": {
            "tags": []
          },
          "execution_count": 60
        }
      ]
    },
    {
      "cell_type": "code",
      "metadata": {
        "colab": {
          "base_uri": "https://localhost:8080/"
        },
        "id": "Yp-Q0Qy1LF4k",
        "outputId": "4630e399-8e63-4efd-b706-d86d563fdb35"
      },
      "source": [
        "%ls"
      ],
      "execution_count": null,
      "outputs": [
        {
          "output_type": "stream",
          "text": [
            " army.json                                      NewsClassification2.ipynb\n",
            " business.json                                  NewsClassification4.ipynb\n",
            " c.csv                                          NewsClassification.ipynb\n",
            " \u001b[0m\u001b[01;34mcomp.graphics\u001b[0m/                                 news_text_classification.h5\n",
            "'Copy of WRNN-News_Text_Classification.ipynb'   politics.json\n",
            " general.json                                   \u001b[01;34mrec.motorcycles\u001b[0m/\n",
            " glove300d.pkl                                  \u001b[01;34msci.med\u001b[0m/\n",
            " glove.840B.300d.txt                            SGPfinalModel.ipynb\n",
            " glove.840B.300d.zip                            \u001b[01;34msport\u001b[0m/\n",
            " glove.txt                                      \u001b[01;34mtalk.politics.misc\u001b[0m/\n",
            " NewsClassificatio3.ipynb                       \u001b[01;34mtech\u001b[0m/\n",
            "'NewsClassification (1).ipynb'\n"
          ],
          "name": "stdout"
        }
      ]
    },
    {
      "cell_type": "code",
      "metadata": {
        "colab": {
          "base_uri": "https://localhost:8080/"
        },
        "id": "t5iegjJUKoQX",
        "outputId": "1ea676e2-6094-49ca-8155-3c40501de017"
      },
      "source": [
        "import pandas as pd\n",
        "\n",
        "scrapped = pd.read_csv('c.csv')\n",
        "\n",
        "scrapped.shape"
      ],
      "execution_count": null,
      "outputs": [
        {
          "output_type": "execute_result",
          "data": {
            "text/plain": [
              "(52, 6)"
            ]
          },
          "metadata": {
            "tags": []
          },
          "execution_count": 9
        }
      ]
    },
    {
      "cell_type": "code",
      "metadata": {
        "colab": {
          "base_uri": "https://localhost:8080/",
          "height": 197
        },
        "id": "RQ8PRNArMxJe",
        "outputId": "a8a0bcb3-880b-4a03-d0bb-4172175001ee"
      },
      "source": [
        "scrapped_text = []\n",
        "for ind in scrapped.index:\n",
        "     scrapped_text.append(scrapped['newstitle'][ind]+scrapped['content'][ind])"
      ],
      "execution_count": null,
      "outputs": [
        {
          "output_type": "error",
          "ename": "TypeError",
          "evalue": "ignored",
          "traceback": [
            "\u001b[0;31m---------------------------------------------------------------------------\u001b[0m",
            "\u001b[0;31mTypeError\u001b[0m                                 Traceback (most recent call last)",
            "\u001b[0;32m<ipython-input-26-4b5af17d5ac2>\u001b[0m in \u001b[0;36m<module>\u001b[0;34m()\u001b[0m\n\u001b[1;32m      1\u001b[0m \u001b[0mscrapped_text\u001b[0m \u001b[0;34m=\u001b[0m \u001b[0;34m[\u001b[0m\u001b[0;34m]\u001b[0m\u001b[0;34m\u001b[0m\u001b[0;34m\u001b[0m\u001b[0m\n\u001b[1;32m      2\u001b[0m \u001b[0;32mfor\u001b[0m \u001b[0mind\u001b[0m \u001b[0;32min\u001b[0m \u001b[0mscrapped\u001b[0m\u001b[0;34m.\u001b[0m\u001b[0mindex\u001b[0m\u001b[0;34m:\u001b[0m\u001b[0;34m\u001b[0m\u001b[0;34m\u001b[0m\u001b[0m\n\u001b[0;32m----> 3\u001b[0;31m      \u001b[0mscrapped_text\u001b[0m\u001b[0;34m.\u001b[0m\u001b[0mappend\u001b[0m\u001b[0;34m(\u001b[0m\u001b[0mscrapped\u001b[0m\u001b[0;34m[\u001b[0m\u001b[0;34m'newstitle'\u001b[0m\u001b[0;34m]\u001b[0m\u001b[0;34m[\u001b[0m\u001b[0mind\u001b[0m\u001b[0;34m]\u001b[0m\u001b[0;34m+\u001b[0m\u001b[0mscrapped\u001b[0m\u001b[0;34m[\u001b[0m\u001b[0;34m'content'\u001b[0m\u001b[0;34m]\u001b[0m\u001b[0;34m[\u001b[0m\u001b[0mind\u001b[0m\u001b[0;34m]\u001b[0m\u001b[0;34m)\u001b[0m\u001b[0;34m\u001b[0m\u001b[0;34m\u001b[0m\u001b[0m\n\u001b[0m",
            "\u001b[0;31mTypeError\u001b[0m: can only concatenate str (not \"float\") to str"
          ]
        }
      ]
    },
    {
      "cell_type": "code",
      "metadata": {
        "colab": {
          "base_uri": "https://localhost:8080/"
        },
        "id": "PCG69aZaRJE1",
        "outputId": "36fe7cf2-ed1a-4c28-b7eb-2d81196c170c"
      },
      "source": [
        "scrapped_text"
      ],
      "execution_count": null,
      "outputs": [
        {
          "output_type": "execute_result",
          "data": {
            "text/plain": [
              "['Three from Tamil Nadu killed in Kannur road accidentThe victims hailed from Tenkasi in Tamil Nadu. The bodies were kept at the district hospital here, police said. ',\n",
              " 'CRPF jawan killed in accident in GhazipurJawan Alok Kumar Singh was seriously injured in the accident that took place on Sunday and was rushed to hospital, where he died during treatment ',\n",
              " 'West Bengal: Locals torch trucks in Gurguripal after biker’s death in accidentPolice rushed to spot immediately after learning of the incident.',\n",
              " 'NDTV case: CBI told to file reportAfter the petition was filed on Thursday, Justice Vinod Goel posted the matter for hearing on September 21.',\n",
              " \"Tension in UP village after Hindu Yuva Vahini activist’s deathPolice said an FIR was registered against unidentified persons and the victim's body sent for post mortem\",\n",
              " \"Covid surge spreads to 28 of Maharashtra's 36 districtsCovid-19 cases have spread to more districts in the state over the past week. Active cases in 28 of the 36 districts in Maharashtra have seen a surge in the last two weeks, up from 21 districts about 10 days ago.\",\n",
              " 'Bengal to vote in 8 phases, Assam 3, one-dayers in TN, KeralaThe Election Commission on Friday announced polls in Tamil Nadu, Assam, West Bengal, Kerala and Puducherry between March 27 and April 29, setting up several high-stake electoral contests with unprecedented eight-phase voting in Bengal. The state, which has seen rising bitterness and violence between TMC and BJP, will see the country’s most staggered assembly poll to date.',\n",
              " \"India vs England: Tracing India’s 'Axar' factorThere’s a story narrated by Vijay Patel, who was Gujarat’s senior team coach for 14 years from 2004 to 2018, that shows why left-arm orthodox spinner Axar Patel may be difficult to drop even when Ravindra Jadeja returns to the fold. Axar was India’s hero in the third Test in Ahmedabad with incredible match figures of 11/70. Pant and Rahane have nicknamed Azar ‘Wasim Bhai'.\",\n",
              " 'Covid-19: Option to walk in, register & get vaccinatedAs the vaccination drive against Covid-19 is set for a big ramp up from March 1, expanding coverage beyond healthcare and frontline workers, the Centre said the vaccine could be accessed through three routes — advance self-registration, on-site registration and facilitated cohorts. At a meeting with Centre, states and UTs were told about the basic features of version 2.0 of Co-Win.',\n",
              " \"US authorises J&J Covid vaccine for emergency useThe United States on Saturday authorised Johnson & Johnson's Covid vaccine for emergency use, giving the nation a third shot to battle the outbreak that has killed more than 500,000 Americans. The single-shot vaccine is highly effective in preventing severe Covid-19, including against newer variants, the Food and Drug Administration (FDA) said before giving it a greenlight.\",\n",
              " 'Six cities to host IPL 2021; Mumbai says no to fansMoving away from their initial plan to host the Indian Premier League’s (IPL) 2021 edition between Mumbai and Pune — and part of the playoffs and final in Ahmedabad — the BCCI has now shortlisted six cities to conduct this year’s tournament. Mumbai, Bangalore, Chennai, Kolkata, Ahmedabad and Delhi have been shortlisted to host this year’s IPL.',\n",
              " 'Ashwin hits back as controversy rages over pink-ball Test trackThe controversy around the pitch in the pink-ball day-night Test, which saw India win inside two days, shows no signs of abating. On what would have been Day Four of the Test, ace off-spinner R Ashwin, who reached 400 Test wickets in just 77 Tests during the short match, came down hard against critics of the Ahmedabad pitch.',\n",
              " 'Onus on India to better ties, says Imran KhanDays after the LoC ceasefire agreement, seen by some as the first real sign of thaw in ties since the Pathankot terror attack, Pakistan PM Imran Khan, while welcoming the cessation of hostilities, said the onus was on India to create an enabling environment for further progress in the bilateral relationship.',\n",
              " 'Hashtags should be treated as political ads, says panelThe panel, set up under ex-IRS officer Harish Kumar to review poll expenditure limits and expenditure monitoring mechanisms, in its interim report submitted to the EC on January 24 has also called for creation of a separate social media monitoring cell in the district election officer’s (DEO) office to track political ads on social media during polls, and report them to the expenditure observer.',\n",
              " 'Will not junk farm laws, PM Narendra Modi indicates yet againPM Modi on Monday again advocated the need for agricultural reforms to help farmers realise better prices for their produce, vigorously pitching for setting up more and more Farmer Producer Organisations (FPOs) across the country to get small and marginal farmers better access to technology, input, finance and market.',\n",
              " 'Bomb Scare At Taj Mahal: Tourists Evacuated, Monument Shut After Threat CallPolice evacuated all the tourists present inside the premises of Taj Mahal and shut the monument for',\n",
              " \"Why Rohit Sharma is indispensable to Team India in home TestsOn a pitch where batsmen were spooked by spinners every ball, and a wicket was falling every other minute, Rohit Sharma cracked 66 in the first innings, out of India's puny total of 145, and then finished off the match in style with his signature shot - dancing down the wicket and smashing the ball to deep mid-wicket - off England captain Joe Root, who had taken five for eight in the first innings.\",\n",
              " 'Kohli becomes 1st cricketer to cross 100m followers on InstagramIndia captain Virat Kohli has recorded another century, albeit not on the pitch this time, as he became the first cricketer in the world to have 100 million followers on social media platform Instagram.',\n",
              " 'SC directs private hospitals to give priority in treatment to elderly amid pandemicA bench of justices Ashok Bhushan and R S Reddy modified its earlier order of August 4, 2020, by which it had directed only government hospitals to give priority in admission and treatment of elderly people looking at their vulnerability to coronavirus.',\n",
              " 'SpaceX Starship rocket prototype nails landing... then blows upIt was the third such landing attempt to end in a fireball after an otherwise successful test flight for the Starship, being developed by SpaceX to carry humans and 100 tons of cargo on future missions to the moon and Mars.',\n",
              " 'Bengaluru: 2 die at IISc in a day, 1 by suicide The Indian Institute of Science (IISc) has reported deaths of two researchers — both on Tuesday — on campus, including one death by suicide. While Randhir Kumar, 36, a PhD fellow, was found hanging in his hostel room, Rahul Prathap, 31, an MTech student, collapsed while practising football at around 7.30pm.',\n",
              " 'J&K: Delimitation Commission gets one-year extensionA gazette notification said the panel, headed by retired SC judge Ranjana Prakash Desai, will get one more year for completing its task in the Union Territory, which came into existence on October, 2019 after the Centre abrogated the special status of the erstwhile state in August that year and announced its reorganisation.',\n",
              " 'Two killed as truck collides with car in UP\"Keshav (7) and Beena (60) were killed, while two other passengers of the car were seriously injured,\" Superintendent of Police Gaurav Singh said.',\n",
              " 'Veer Savarkar was a true patriot: Goa CM Manohar Parrikar\"Remembering Veer Savarkar on his birth anniversary, a true patriot whose ideology inspires millions of Indians,\" Parrikar tweeted ',\n",
              " 'Police officer, three others killed in Jharkhand road accidentThe accident took place at Jalakdiha village on the Bengabad-Madhupur Road, around 190 km from Ranchi ',\n",
              " 'Odisha: 19-year-old student commits suicideThe deceased has been identified as Rudra Narayan Rout ',\n",
              " 'International tag for Vijayawada airportThe decision was taken in accordance with provisions of the Andhra Pradesh Reorganisation Act, 2014 and keeping in view the passenger traffic growth']"
            ]
          },
          "metadata": {
            "tags": []
          },
          "execution_count": 27
        }
      ]
    },
    {
      "cell_type": "code",
      "metadata": {
        "id": "D0j1-mvNR6Bh"
      },
      "source": [
        "all_cleaned_texts = np.array([clean(text) for text in scrapped_text])"
      ],
      "execution_count": null,
      "outputs": []
    },
    {
      "cell_type": "code",
      "metadata": {
        "id": "zZzKLXhtR9u3"
      },
      "source": [
        "from tensorflow.keras.preprocessing.sequence import pad_sequences\n",
        "all_cleaned_sequences = tokenizer.texts_to_sequences(all_cleaned_texts)\n",
        "all_cleaned_padded = pad_sequences(\n",
        "    all_cleaned_sequences, maxlen=max_len, padding=\"pre\", truncating=\"post\"\n",
        ")"
      ],
      "execution_count": null,
      "outputs": []
    },
    {
      "cell_type": "code",
      "metadata": {
        "colab": {
          "base_uri": "https://localhost:8080/"
        },
        "id": "fAR2CFJiSGpR",
        "outputId": "bcb15bd3-7a19-44c6-e45b-8577ff4ed9bc"
      },
      "source": [
        "all_cleaned_padded.shape"
      ],
      "execution_count": null,
      "outputs": [
        {
          "output_type": "execute_result",
          "data": {
            "text/plain": [
              "(27, 300)"
            ]
          },
          "metadata": {
            "tags": []
          },
          "execution_count": 37
        }
      ]
    },
    {
      "cell_type": "code",
      "metadata": {
        "id": "4mNS1l7-SLqe"
      },
      "source": [
        "predictions = new_model.predict(all_cleaned_padded)\n",
        "predictions = one_hot_encoder.inverse_transform(predictions)"
      ],
      "execution_count": null,
      "outputs": []
    },
    {
      "cell_type": "code",
      "metadata": {
        "colab": {
          "base_uri": "https://localhost:8080/"
        },
        "id": "osqUyBfsTHa6",
        "outputId": "3a89df77-a39f-4c00-d275-3ced61b247df"
      },
      "source": [
        "for i in range(27):\n",
        "  print(predictions[i],scrapped_text[i])"
      ],
      "execution_count": null,
      "outputs": [
        {
          "output_type": "stream",
          "text": [
            "[2] Three from Tamil Nadu killed in Kannur road accidentThe victims hailed from Tenkasi in Tamil Nadu. The bodies were kept at the district hospital here, police said. \n",
            "[2] CRPF jawan killed in accident in GhazipurJawan Alok Kumar Singh was seriously injured in the accident that took place on Sunday and was rushed to hospital, where he died during treatment \n",
            "[4] West Bengal: Locals torch trucks in Gurguripal after biker’s death in accidentPolice rushed to spot immediately after learning of the incident.\n",
            "[2] NDTV case: CBI told to file reportAfter the petition was filed on Thursday, Justice Vinod Goel posted the matter for hearing on September 21.\n",
            "[2] Tension in UP village after Hindu Yuva Vahini activist’s deathPolice said an FIR was registered against unidentified persons and the victim's body sent for post mortem\n",
            "[2] Covid surge spreads to 28 of Maharashtra's 36 districtsCovid-19 cases have spread to more districts in the state over the past week. Active cases in 28 of the 36 districts in Maharashtra have seen a surge in the last two weeks, up from 21 districts about 10 days ago.\n",
            "[2] Bengal to vote in 8 phases, Assam 3, one-dayers in TN, KeralaThe Election Commission on Friday announced polls in Tamil Nadu, Assam, West Bengal, Kerala and Puducherry between March 27 and April 29, setting up several high-stake electoral contests with unprecedented eight-phase voting in Bengal. The state, which has seen rising bitterness and violence between TMC and BJP, will see the country’s most staggered assembly poll to date.\n",
            "[4] India vs England: Tracing India’s 'Axar' factorThere’s a story narrated by Vijay Patel, who was Gujarat’s senior team coach for 14 years from 2004 to 2018, that shows why left-arm orthodox spinner Axar Patel may be difficult to drop even when Ravindra Jadeja returns to the fold. Axar was India’s hero in the third Test in Ahmedabad with incredible match figures of 11/70. Pant and Rahane have nicknamed Azar ‘Wasim Bhai'.\n",
            "[1] Covid-19: Option to walk in, register & get vaccinatedAs the vaccination drive against Covid-19 is set for a big ramp up from March 1, expanding coverage beyond healthcare and frontline workers, the Centre said the vaccine could be accessed through three routes — advance self-registration, on-site registration and facilitated cohorts. At a meeting with Centre, states and UTs were told about the basic features of version 2.0 of Co-Win.\n",
            "[4] US authorises J&J Covid vaccine for emergency useThe United States on Saturday authorised Johnson & Johnson's Covid vaccine for emergency use, giving the nation a third shot to battle the outbreak that has killed more than 500,000 Americans. The single-shot vaccine is highly effective in preventing severe Covid-19, including against newer variants, the Food and Drug Administration (FDA) said before giving it a greenlight.\n",
            "[2] Six cities to host IPL 2021; Mumbai says no to fansMoving away from their initial plan to host the Indian Premier League’s (IPL) 2021 edition between Mumbai and Pune — and part of the playoffs and final in Ahmedabad — the BCCI has now shortlisted six cities to conduct this year’s tournament. Mumbai, Bangalore, Chennai, Kolkata, Ahmedabad and Delhi have been shortlisted to host this year’s IPL.\n",
            "[4] Ashwin hits back as controversy rages over pink-ball Test trackThe controversy around the pitch in the pink-ball day-night Test, which saw India win inside two days, shows no signs of abating. On what would have been Day Four of the Test, ace off-spinner R Ashwin, who reached 400 Test wickets in just 77 Tests during the short match, came down hard against critics of the Ahmedabad pitch.\n",
            "[2] Onus on India to better ties, says Imran KhanDays after the LoC ceasefire agreement, seen by some as the first real sign of thaw in ties since the Pathankot terror attack, Pakistan PM Imran Khan, while welcoming the cessation of hostilities, said the onus was on India to create an enabling environment for further progress in the bilateral relationship.\n",
            "[1] Hashtags should be treated as political ads, says panelThe panel, set up under ex-IRS officer Harish Kumar to review poll expenditure limits and expenditure monitoring mechanisms, in its interim report submitted to the EC on January 24 has also called for creation of a separate social media monitoring cell in the district election officer’s (DEO) office to track political ads on social media during polls, and report them to the expenditure observer.\n",
            "[2] Will not junk farm laws, PM Narendra Modi indicates yet againPM Modi on Monday again advocated the need for agricultural reforms to help farmers realise better prices for their produce, vigorously pitching for setting up more and more Farmer Producer Organisations (FPOs) across the country to get small and marginal farmers better access to technology, input, finance and market.\n",
            "[2] Bomb Scare At Taj Mahal: Tourists Evacuated, Monument Shut After Threat CallPolice evacuated all the tourists present inside the premises of Taj Mahal and shut the monument for\n",
            "[4] Why Rohit Sharma is indispensable to Team India in home TestsOn a pitch where batsmen were spooked by spinners every ball, and a wicket was falling every other minute, Rohit Sharma cracked 66 in the first innings, out of India's puny total of 145, and then finished off the match in style with his signature shot - dancing down the wicket and smashing the ball to deep mid-wicket - off England captain Joe Root, who had taken five for eight in the first innings.\n",
            "[4] Kohli becomes 1st cricketer to cross 100m followers on InstagramIndia captain Virat Kohli has recorded another century, albeit not on the pitch this time, as he became the first cricketer in the world to have 100 million followers on social media platform Instagram.\n",
            "[2] SC directs private hospitals to give priority in treatment to elderly amid pandemicA bench of justices Ashok Bhushan and R S Reddy modified its earlier order of August 4, 2020, by which it had directed only government hospitals to give priority in admission and treatment of elderly people looking at their vulnerability to coronavirus.\n",
            "[4] SpaceX Starship rocket prototype nails landing... then blows upIt was the third such landing attempt to end in a fireball after an otherwise successful test flight for the Starship, being developed by SpaceX to carry humans and 100 tons of cargo on future missions to the moon and Mars.\n",
            "[2] Bengaluru: 2 die at IISc in a day, 1 by suicide The Indian Institute of Science (IISc) has reported deaths of two researchers — both on Tuesday — on campus, including one death by suicide. While Randhir Kumar, 36, a PhD fellow, was found hanging in his hostel room, Rahul Prathap, 31, an MTech student, collapsed while practising football at around 7.30pm.\n",
            "[2] J&K: Delimitation Commission gets one-year extensionA gazette notification said the panel, headed by retired SC judge Ranjana Prakash Desai, will get one more year for completing its task in the Union Territory, which came into existence on October, 2019 after the Centre abrogated the special status of the erstwhile state in August that year and announced its reorganisation.\n",
            "[2] Two killed as truck collides with car in UP\"Keshav (7) and Beena (60) were killed, while two other passengers of the car were seriously injured,\" Superintendent of Police Gaurav Singh said.\n",
            "[2] Veer Savarkar was a true patriot: Goa CM Manohar Parrikar\"Remembering Veer Savarkar on his birth anniversary, a true patriot whose ideology inspires millions of Indians,\" Parrikar tweeted \n",
            "[2] Police officer, three others killed in Jharkhand road accidentThe accident took place at Jalakdiha village on the Bengabad-Madhupur Road, around 190 km from Ranchi \n",
            "[2] Odisha: 19-year-old student commits suicideThe deceased has been identified as Rudra Narayan Rout \n",
            "[2] International tag for Vijayawada airportThe decision was taken in accordance with provisions of the Andhra Pradesh Reorganisation Act, 2014 and keeping in view the passenger traffic growth\n"
          ],
          "name": "stdout"
        }
      ]
    },
    {
      "cell_type": "code",
      "metadata": {
        "colab": {
          "base_uri": "https://localhost:8080/"
        },
        "id": "hiMD69hJ0vt2",
        "outputId": "b0b220f2-cba1-43a3-be92-fcae9ae42814"
      },
      "source": [
        "!pip install celery"
      ],
      "execution_count": null,
      "outputs": [
        {
          "output_type": "stream",
          "text": [
            "Collecting celery\n",
            "\u001b[?25l  Downloading https://files.pythonhosted.org/packages/95/79/d73247b42082076bb32c828e3361cda2604ee523aa3bfe972bdfabffc6d0/celery-5.0.5-py3-none-any.whl (392kB)\n",
            "\r\u001b[K     |▉                               | 10kB 17.0MB/s eta 0:00:01\r\u001b[K     |█▊                              | 20kB 6.1MB/s eta 0:00:01\r\u001b[K     |██▌                             | 30kB 4.0MB/s eta 0:00:01\r\u001b[K     |███▍                            | 40kB 3.8MB/s eta 0:00:01\r\u001b[K     |████▏                           | 51kB 2.1MB/s eta 0:00:01\r\u001b[K     |█████                           | 61kB 2.3MB/s eta 0:00:01\r\u001b[K     |█████▉                          | 71kB 2.5MB/s eta 0:00:01\r\u001b[K     |██████▊                         | 81kB 2.7MB/s eta 0:00:01\r\u001b[K     |███████▌                        | 92kB 2.7MB/s eta 0:00:01\r\u001b[K     |████████▍                       | 102kB 2.8MB/s eta 0:00:01\r\u001b[K     |█████████▏                      | 112kB 2.8MB/s eta 0:00:01\r\u001b[K     |██████████                      | 122kB 2.8MB/s eta 0:00:01\r\u001b[K     |██████████▉                     | 133kB 2.8MB/s eta 0:00:01\r\u001b[K     |███████████▊                    | 143kB 2.8MB/s eta 0:00:01\r\u001b[K     |████████████▌                   | 153kB 2.8MB/s eta 0:00:01\r\u001b[K     |█████████████▍                  | 163kB 2.8MB/s eta 0:00:01\r\u001b[K     |██████████████▏                 | 174kB 2.8MB/s eta 0:00:01\r\u001b[K     |███████████████                 | 184kB 2.8MB/s eta 0:00:01\r\u001b[K     |███████████████▉                | 194kB 2.8MB/s eta 0:00:01\r\u001b[K     |████████████████▊               | 204kB 2.8MB/s eta 0:00:01\r\u001b[K     |█████████████████▌              | 215kB 2.8MB/s eta 0:00:01\r\u001b[K     |██████████████████▍             | 225kB 2.8MB/s eta 0:00:01\r\u001b[K     |███████████████████▏            | 235kB 2.8MB/s eta 0:00:01\r\u001b[K     |████████████████████            | 245kB 2.8MB/s eta 0:00:01\r\u001b[K     |████████████████████▉           | 256kB 2.8MB/s eta 0:00:01\r\u001b[K     |█████████████████████▊          | 266kB 2.8MB/s eta 0:00:01\r\u001b[K     |██████████████████████▌         | 276kB 2.8MB/s eta 0:00:01\r\u001b[K     |███████████████████████▍        | 286kB 2.8MB/s eta 0:00:01\r\u001b[K     |████████████████████████▏       | 296kB 2.8MB/s eta 0:00:01\r\u001b[K     |█████████████████████████       | 307kB 2.8MB/s eta 0:00:01\r\u001b[K     |█████████████████████████▉      | 317kB 2.8MB/s eta 0:00:01\r\u001b[K     |██████████████████████████▊     | 327kB 2.8MB/s eta 0:00:01\r\u001b[K     |███████████████████████████▌    | 337kB 2.8MB/s eta 0:00:01\r\u001b[K     |████████████████████████████▍   | 348kB 2.8MB/s eta 0:00:01\r\u001b[K     |█████████████████████████████▏  | 358kB 2.8MB/s eta 0:00:01\r\u001b[K     |██████████████████████████████  | 368kB 2.8MB/s eta 0:00:01\r\u001b[K     |██████████████████████████████▉ | 378kB 2.8MB/s eta 0:00:01\r\u001b[K     |███████████████████████████████▊| 389kB 2.8MB/s eta 0:00:01\r\u001b[K     |████████████████████████████████| 399kB 2.8MB/s \n",
            "\u001b[?25hCollecting click-didyoumean>=0.0.3\n",
            "  Downloading https://files.pythonhosted.org/packages/9f/79/d265d783dd022541b744d002745d9e55d84c04a41930e35d8795934f6526/click-didyoumean-0.0.3.tar.gz\n",
            "Collecting vine<6.0,>=5.0.0\n",
            "  Downloading https://files.pythonhosted.org/packages/8d/61/a7badb48186919a9fd7cf0ef427cab6d16e0ed474035c36fa64ddd72bfa2/vine-5.0.0-py2.py3-none-any.whl\n",
            "Collecting billiard<4.0,>=3.6.3.0\n",
            "\u001b[?25l  Downloading https://files.pythonhosted.org/packages/2b/89/0c43de91d4e52eaa7bd748771d417f6ac9e51e66b2f61928c2151bf65878/billiard-3.6.4.0-py3-none-any.whl (89kB)\n",
            "\u001b[K     |████████████████████████████████| 92kB 6.6MB/s \n",
            "\u001b[?25hCollecting kombu<6.0,>=5.0.0\n",
            "\u001b[?25l  Downloading https://files.pythonhosted.org/packages/22/6e/69bc1061633a88aa47beaa8bbecff1c3c555a005603cfbebcec4aa37f183/kombu-5.0.2-py2.py3-none-any.whl (180kB)\n",
            "\u001b[K     |████████████████████████████████| 184kB 12.4MB/s \n",
            "\u001b[?25hRequirement already satisfied: click<8.0,>=7.0 in /usr/local/lib/python3.7/dist-packages (from celery) (7.1.2)\n",
            "Collecting click-plugins>=1.1.1\n",
            "  Downloading https://files.pythonhosted.org/packages/e9/da/824b92d9942f4e472702488857914bdd50f73021efea15b4cad9aca8ecef/click_plugins-1.1.1-py2.py3-none-any.whl\n",
            "Requirement already satisfied: pytz>dev in /usr/local/lib/python3.7/dist-packages (from celery) (2018.9)\n",
            "Collecting click-repl>=0.1.6\n",
            "  Downloading https://files.pythonhosted.org/packages/6c/4e/577214ee76a5a36af485ae9ec01b4a47ee607b5d413b2063dafccf41f3ad/click_repl-0.1.6-py3-none-any.whl\n",
            "Collecting amqp<6.0.0,>=5.0.0\n",
            "\u001b[?25l  Downloading https://files.pythonhosted.org/packages/80/f1/cd7626c763e58f967317023c3dd01a2fab5d6f00f8e1c672ccceb3aae5cb/amqp-5.0.6-py3-none-any.whl (53kB)\n",
            "\u001b[K     |████████████████████████████████| 61kB 5.5MB/s \n",
            "\u001b[?25hRequirement already satisfied: importlib-metadata>=0.18; python_version < \"3.8\" in /usr/local/lib/python3.7/dist-packages (from kombu<6.0,>=5.0.0->celery) (3.10.0)\n",
            "Requirement already satisfied: prompt-toolkit in /usr/local/lib/python3.7/dist-packages (from click-repl>=0.1.6->celery) (1.0.18)\n",
            "Requirement already satisfied: six in /usr/local/lib/python3.7/dist-packages (from click-repl>=0.1.6->celery) (1.15.0)\n",
            "Requirement already satisfied: typing-extensions>=3.6.4; python_version < \"3.8\" in /usr/local/lib/python3.7/dist-packages (from importlib-metadata>=0.18; python_version < \"3.8\"->kombu<6.0,>=5.0.0->celery) (3.7.4.3)\n",
            "Requirement already satisfied: zipp>=0.5 in /usr/local/lib/python3.7/dist-packages (from importlib-metadata>=0.18; python_version < \"3.8\"->kombu<6.0,>=5.0.0->celery) (3.4.1)\n",
            "Requirement already satisfied: wcwidth in /usr/local/lib/python3.7/dist-packages (from prompt-toolkit->click-repl>=0.1.6->celery) (0.2.5)\n",
            "Building wheels for collected packages: click-didyoumean\n",
            "  Building wheel for click-didyoumean (setup.py) ... \u001b[?25l\u001b[?25hdone\n",
            "  Created wheel for click-didyoumean: filename=click_didyoumean-0.0.3-cp37-none-any.whl size=2147 sha256=dcd49cd8b17d34a42c851ace8eb65d15fccf3bcb7c6bc0d15a4660c77639ea8d\n",
            "  Stored in directory: /root/.cache/pip/wheels/6e/b6/7e/f5861c2196073138d49bbe662671e6a983236ea10db6ad9836\n",
            "Successfully built click-didyoumean\n",
            "Installing collected packages: click-didyoumean, vine, billiard, amqp, kombu, click-plugins, click-repl, celery\n",
            "Successfully installed amqp-5.0.6 billiard-3.6.4.0 celery-5.0.5 click-didyoumean-0.0.3 click-plugins-1.1.1 click-repl-0.1.6 kombu-5.0.2 vine-5.0.0\n"
          ],
          "name": "stdout"
        }
      ]
    },
    {
      "cell_type": "code",
      "metadata": {
        "colab": {
          "base_uri": "https://localhost:8080/",
          "height": 370
        },
        "id": "Q0HF4WOh0Gxp",
        "outputId": "97759c80-be3f-4a76-fe8f-4c388929c324"
      },
      "source": [
        "from time import sleep\n",
        "from bs4 import BeautifulSoup\n",
        "from urllib.request import urlopen, Request\n",
        "import requests\n",
        "from keras.models import load_model\n",
        "new_model = load_model('news_text_classification.h5')\n",
        "\n",
        "@shared_task\n",
        "# do some heavy stuff let scrap some newshit\n",
        "def crawl_news():\n",
        "    print('Crawling news and creating objects in database ..')\n",
        "    page = requests.get('https://www.india.com/news/india/')\n",
        "    \n",
        "    bs = BeautifulSoup(page.text, \"html.parser\")\n",
        "    #print(bs)\n",
        "    # Find first 5 table rows\n",
        "    articles = bs.find(\"ul\",class_=\"catPgList\")\n",
        "    headlines = articles.find_all('li',class_=\"catPgListitem\")[0:5]\n",
        "    #print(headlines)\n",
        "\n",
        "    for headline in headlines:\n",
        "        box = headline.find('figcaption')\n",
        "        #print(box)\n",
        "        newstitle = box.find('h3').text\n",
        "        category =box.find('a').attrs['href']\n",
        "\n",
        "        partipage = requests.get(category)\n",
        "        bs = BeautifulSoup(partipage.text, \"html.parser\")\n",
        "        newpage = bs.find('article',class_=\"common-text\")\n",
        "        content = newpage.find('p').text.strip()\n",
        "       \n",
        "    sleep(3)\n",
        "\n",
        "@shared_task\n",
        "def crawl_news_express():\n",
        "    print('Crawling data and creating objects in database ..')\n",
        "    page = requests.get('https://timesofindia.indiatimes.com/briefs')\n",
        "    \n",
        "    bs = BeautifulSoup(page.text, \"html.parser\")\n",
        "    #print(bs)\n",
        "    # Find first 5 table rows\n",
        "    articles = bs.find(\"div\",class_=\"briefs_outer clearfix\")\n",
        "    headlines = articles.find_all('div',class_=\"brief_box\")[0:4]\n",
        "    headlines2 = articles.find_all('div',class_=\"brief_box\")[5:9]\n",
        "    #print(headlines)\n",
        "\n",
        "    for headline in headlines:\n",
        "        \n",
        "        newstitle = headline.find('h2').find('a').contents[0]\n",
        "        content = headline.find('p').find('a').contents[0]\n",
        "        category ='https://timesofindia.indiatimes.com/'+headline.find('h2').find('a').attrs['href']\n",
        "        print(newstitle,content,category)\n",
        "        Newsapi.objects.get_or_create(\n",
        "            newstitle = str(newstitle),\n",
        "            content = str(content),\n",
        "            source = \"Times of India\",\n",
        "            category= category\n",
        "        )\n",
        "    for headline in headlines2:\n",
        "        \n",
        "        newstitle = headline.find('h2').find('a').contents[0]\n",
        "        content = headline.find('p').find('a').contents[0]\n",
        "        category ='https://timesofindia.indiatimes.com/'+headline.find('h2').find('a').attrs['href']\n",
        "\n",
        "        print(newstitle,content,category)\n",
        "        Newsapi.objects.get_or_create(\n",
        "            newstitle = str(newstitle),\n",
        "            content = str(content),\n",
        "            source = \"Times of India\",\n",
        "            category= category\n",
        "        )\n",
        "    sleep(3)\n",
        "\n"
      ],
      "execution_count": null,
      "outputs": [
        {
          "output_type": "error",
          "ename": "OSError",
          "evalue": "ignored",
          "traceback": [
            "\u001b[0;31m---------------------------------------------------------------------------\u001b[0m",
            "\u001b[0;31mOSError\u001b[0m                                   Traceback (most recent call last)",
            "\u001b[0;32m<ipython-input-2-460b1f9424d4>\u001b[0m in \u001b[0;36m<module>\u001b[0;34m()\u001b[0m\n\u001b[1;32m      4\u001b[0m \u001b[0;32mimport\u001b[0m \u001b[0mrequests\u001b[0m\u001b[0;34m\u001b[0m\u001b[0;34m\u001b[0m\u001b[0m\n\u001b[1;32m      5\u001b[0m \u001b[0;32mfrom\u001b[0m \u001b[0mkeras\u001b[0m\u001b[0;34m.\u001b[0m\u001b[0mmodels\u001b[0m \u001b[0;32mimport\u001b[0m \u001b[0mload_model\u001b[0m\u001b[0;34m\u001b[0m\u001b[0;34m\u001b[0m\u001b[0m\n\u001b[0;32m----> 6\u001b[0;31m \u001b[0mnew_model\u001b[0m \u001b[0;34m=\u001b[0m \u001b[0mload_model\u001b[0m\u001b[0;34m(\u001b[0m\u001b[0;34m'news_text_classification.h5'\u001b[0m\u001b[0;34m)\u001b[0m\u001b[0;34m\u001b[0m\u001b[0;34m\u001b[0m\u001b[0m\n\u001b[0m\u001b[1;32m      7\u001b[0m \u001b[0;34m\u001b[0m\u001b[0m\n\u001b[1;32m      8\u001b[0m \u001b[0;34m@\u001b[0m\u001b[0mshared_task\u001b[0m\u001b[0;34m\u001b[0m\u001b[0;34m\u001b[0m\u001b[0m\n",
            "\u001b[0;32m/usr/local/lib/python3.7/dist-packages/tensorflow/python/keras/saving/save.py\u001b[0m in \u001b[0;36mload_model\u001b[0;34m(filepath, custom_objects, compile, options)\u001b[0m\n\u001b[1;32m    209\u001b[0m       \u001b[0mfilepath\u001b[0m \u001b[0;34m=\u001b[0m \u001b[0mpath_to_string\u001b[0m\u001b[0;34m(\u001b[0m\u001b[0mfilepath\u001b[0m\u001b[0;34m)\u001b[0m\u001b[0;34m\u001b[0m\u001b[0;34m\u001b[0m\u001b[0m\n\u001b[1;32m    210\u001b[0m       \u001b[0;32mif\u001b[0m \u001b[0misinstance\u001b[0m\u001b[0;34m(\u001b[0m\u001b[0mfilepath\u001b[0m\u001b[0;34m,\u001b[0m \u001b[0msix\u001b[0m\u001b[0;34m.\u001b[0m\u001b[0mstring_types\u001b[0m\u001b[0;34m)\u001b[0m\u001b[0;34m:\u001b[0m\u001b[0;34m\u001b[0m\u001b[0;34m\u001b[0m\u001b[0m\n\u001b[0;32m--> 211\u001b[0;31m         \u001b[0mloader_impl\u001b[0m\u001b[0;34m.\u001b[0m\u001b[0mparse_saved_model\u001b[0m\u001b[0;34m(\u001b[0m\u001b[0mfilepath\u001b[0m\u001b[0;34m)\u001b[0m\u001b[0;34m\u001b[0m\u001b[0;34m\u001b[0m\u001b[0m\n\u001b[0m\u001b[1;32m    212\u001b[0m         \u001b[0;32mreturn\u001b[0m \u001b[0msaved_model_load\u001b[0m\u001b[0;34m.\u001b[0m\u001b[0mload\u001b[0m\u001b[0;34m(\u001b[0m\u001b[0mfilepath\u001b[0m\u001b[0;34m,\u001b[0m \u001b[0mcompile\u001b[0m\u001b[0;34m,\u001b[0m \u001b[0moptions\u001b[0m\u001b[0;34m)\u001b[0m\u001b[0;34m\u001b[0m\u001b[0;34m\u001b[0m\u001b[0m\n\u001b[1;32m    213\u001b[0m \u001b[0;34m\u001b[0m\u001b[0m\n",
            "\u001b[0;32m/usr/local/lib/python3.7/dist-packages/tensorflow/python/saved_model/loader_impl.py\u001b[0m in \u001b[0;36mparse_saved_model\u001b[0;34m(export_dir)\u001b[0m\n\u001b[1;32m    112\u001b[0m                   (export_dir,\n\u001b[1;32m    113\u001b[0m                    \u001b[0mconstants\u001b[0m\u001b[0;34m.\u001b[0m\u001b[0mSAVED_MODEL_FILENAME_PBTXT\u001b[0m\u001b[0;34m,\u001b[0m\u001b[0;34m\u001b[0m\u001b[0;34m\u001b[0m\u001b[0m\n\u001b[0;32m--> 114\u001b[0;31m                    constants.SAVED_MODEL_FILENAME_PB))\n\u001b[0m\u001b[1;32m    115\u001b[0m \u001b[0;34m\u001b[0m\u001b[0m\n\u001b[1;32m    116\u001b[0m \u001b[0;34m\u001b[0m\u001b[0m\n",
            "\u001b[0;31mOSError\u001b[0m: SavedModel file does not exist at: news_text_classification.h5/{saved_model.pbtxt|saved_model.pb}"
          ]
        }
      ]
    },
    {
      "cell_type": "code",
      "metadata": {
        "id": "jppDMcZdFsWt"
      },
      "source": [
        "def crawl_news(url):\n",
        "    print('Crawling news and creating objects in database ..')\n",
        "    page = requests.get(url)\n",
        "    \n",
        "    bs = BeautifulSoup(page.text, \"html.parser\")\n",
        "    #print(bs)\n",
        "    # Find first 5 table rows\n",
        "    articles = bs.find(\"ul\",class_=\"catPgList\")\n",
        "    headlines = articles.find_all('li',class_=\"catPgListitem\")[0:5]\n",
        "    #print(headlines)\n",
        "    scrapped_articles = []\n",
        "    for headline in headlines:\n",
        "        box = headline.find('figcaption')\n",
        "        #print(box)\n",
        "        newstitle = box.find('h3').text\n",
        "        category =box.find('a').attrs['href']\n",
        "          \n",
        "        partipage = requests.get(category)\n",
        "        bs = BeautifulSoup(partipage.text, \"html.parser\")\n",
        "        newpage = bs.find('article',class_=\"common-text\")\n",
        "        content = newpage.find('p').text.strip()\n",
        "        scrapped_articles.append(newstitle+content)\n",
        "    return scrapped_articles\n",
        "    \n"
      ],
      "execution_count": null,
      "outputs": []
    },
    {
      "cell_type": "code",
      "metadata": {
        "colab": {
          "base_uri": "https://localhost:8080/"
        },
        "id": "urhuQ787G29r",
        "outputId": "9e015c28-510f-4fc4-e403-fd24df2d6629"
      },
      "source": [
        "crawl_news('https://www.india.com/news/india/')\n"
      ],
      "execution_count": null,
      "outputs": [
        {
          "output_type": "stream",
          "text": [
            "Crawling news and creating objects in database ..\n"
          ],
          "name": "stdout"
        },
        {
          "output_type": "execute_result",
          "data": {
            "text/plain": [
              "['West Bengal Assembly Election 2021: 78.36% Voter Turnout Recorded Till 5:45 PM | HighlightsWest Bengal Assembly Election 2021 Updates: Amid tight security and high-voltage campaigning, the fifth phase of polling in West Bengal for votes in 45 assembly seats in six districts – North 24 Parganas, Purba Bardhaman, Nadia, Jalpaiguri, Darjeeling and Kalimpong – was held today. A total of 319 candidates – of which 39 are women – are set to battle as more than half of the total 294 seats in Bengal is sealed by end of the day. A key phase for both, Trinamool Congress and the BJP, several key ministers including TMC’s Gautam Deb, Bratya Basu, BJP’s Jagannath Sarkar and Samik Bhattacharya are contesting in today’s constituencies. Polling in West Bengal is being conducted in eight phases, of which, 4 phases with 135 seats have already been completed. Counting of votes and results to the 294 Vidhan Sabha seats and 126-member Assam Legislative Assembly in West Bengal will be declared on May 2, 2021. Stay tuned to this live blog for all the latest updates. Also Read - EC Curtails Campaign Timing Up To 7 PM, Extends Silence Period As COVID Cases Soar In Bengal',\n",
              " 'Remdesivir Price Capped by Govt | Check Revised Rates of Major BrandsNew Delhi: In a big relief, pharmaceutical companies have reduced the price of Remdesivir injection by Rs 2,000 following the government’s intervention. This step was taken by the government to enhance the availability and affordability of Remdesivir injection. Notably, the antiviral drug is used in the treatment of COVID-19. The anti-viral drug will now be sold for as less as Rs 899. Drug companies like Cadila Healthcare, Dr Reddy’s Laboratories and Cipla have cut the prices of their respective brands of remdesivir injection (100 mg/vial). Check new prices below: Also Read - Delhi Facing Shortage of Oxygen, Remdesivir & ICU Beds: Kejriwal as City Registers 24k Covid Cases in 24 Hours',\n",
              " 'Coronavirus in India LIVE Updates: Maharashtra Reports 67,123 Fresh COVID cases, 419 DeathsCoronavirus News Live Updates April 17, 2021: As India is reeling under the second wave of coronavirus, a number of states and UTs have imposed lockdown-like restrictions and weekend curfew to bring the pandemic under control. On the other hand, the Union Ministry of Health and Family Welfare said that a total number of COVID-19 vaccine doses administered in the country approached the 12 crore-mark with more than 26.14 lakh doses being given till 8 PM on Friday. The cumulative number of COVID-19 vaccine doses administered in the country stands at 11,97,87,239, according to the report. The second phase of COVID-19 vaccination commenced from March 1 for those over 60 years of age and for people aged 45 and above with specified co-morbid conditions. The development comes as the country records over two lakh new cases for the second straight day. Stay tuned to this Live Blog for all COVID-related updates. Also Read - Remdesivir Price Capped by Govt | Check Revised Rates of Major Brands',\n",
              " 'PM Modi Holds Review Meeting on COVID-19, Vaccination Situation With Top Officials Amid Surge in CasesNew Delhi: Prime Minister Narendra Modi has called a review meeting with top officials over the COVID-19 situation and the ongoing vaccination exercise in the country, government sources said on Saturday. Top officers from various ministries will participate in the meeting scheduled for 8 pm on Saturday. Also Read - Delhi Facing Shortage of Oxygen, Remdesivir & ICU Beds: Kejriwal as City Registers 24k Covid Cases in 24 Hours',\n",
              " \"After PM Modi's Request to Keep Kumbh Mela 'Symbolic', Juna Akhada Calls Off CelebrationsHaridwar: After Prime Minister Narendra Modi appeal that the ongoing Kumbh Mela in Haridwar should now have symbolic participation, Swami Avdheshanand, Chief of Juna Akhada, on Saturday called off celebrations. “The Kumbh Mela is now concluded for Juna Akhara,” Swami Avdheshanand Giri said. PM Narendra Modi had earlier spoken to him, requesting that Kumbh Mela should now only be symbolic, in the wake of the COVID-19 pandemic. Also Read - Kumbh Mela Should be 'Only Symbolic' Now to Curb COVID-19: PM Modi\"]"
            ]
          },
          "metadata": {
            "tags": []
          },
          "execution_count": 4
        }
      ]
    },
    {
      "cell_type": "code",
      "metadata": {
        "colab": {
          "base_uri": "https://localhost:8080/"
        },
        "id": "4HVVjzrMIUDg",
        "outputId": "f4755698-f7d4-4d8d-fb66-86c747271549"
      },
      "source": [
        "import pickle\n",
        "scrapped_articles = crawl_news('https://timesofindia.indiatimes.com/briefs').extend(crawl_news('https://www.india.com/news/india/'))\n",
        "all_cleaned_texts = np.array([clean(text) for text in scrapped_articles])\n",
        "    \n",
        "from tensorflow.keras.preprocessing.sequence import pad_sequences\n",
        "with open('tokenizer.pickle', 'rb') as handle:\n",
        "  tokenizer = pickle.load(handle)\n",
        "    \n",
        "all_cleaned_sequences = tokenizer.texts_to_sequences(all_cleaned_texts)\n",
        "all_cleaned_padded = pad_sequences(all_cleaned_sequences, maxlen=300, padding=\"pre\", truncating=\"post\")\n",
        "    \n",
        "predictions = new_model.predict(all_cleaned_padded)\n",
        "    \n",
        "with open('encoder', 'rb') as handle:\n",
        "  one_hot_encoder = pickle.load(handle)\n",
        "predictions = one_hot_encoder.inverse_transform(predictions)"
      ],
      "execution_count": null,
      "outputs": [
        {
          "output_type": "stream",
          "text": [
            "Crawling news and creating objects in database ..\n"
          ],
          "name": "stdout"
        }
      ]
    },
    {
      "cell_type": "code",
      "metadata": {
        "colab": {
          "base_uri": "https://localhost:8080/"
        },
        "id": "9OfnVXGxJWla",
        "outputId": "e2b64f08-8353-4c53-b59e-a2bbbf1e2c77"
      },
      "source": [
        "labels = ['army', 'buisness', 'politics', 'tech','sport']\n",
        "for i in predictions:\n",
        "  print(labels[i[0]])\n",
        "for i in scrapped_articles:\n",
        "  print(i)"
      ],
      "execution_count": null,
      "outputs": [
        {
          "output_type": "stream",
          "text": [
            "politics\n",
            "politics\n",
            "politics\n",
            "tech\n",
            "politics\n",
            "Haridwar Kumbh Mela 2021: Will Mela be Cut Short Due to Covid? Read What Official SaysHaridwar: At a time when Haridwar is witnessing a massive surge in its Coronavirus caseload, the Uttarakhand health secretary has pleaded before the High Court to ease the 50,000 RT-PCR Covid test limit per day in the city. Notably, this comes amid the ongoing Kumbh Mela in the city. The High Court had on March 31 directed the authorities in Haridwar to conduct 50,000 tests per day. Also Read - Kumbh Mela: Thousands of Devotees Take Dip Into Ganga For Shahi Snan Flouting COVID Norms\n",
            "UP Issues Quarantine Guidelines For Migrant Workers Returning to State | Coronavirus LIVE UpdatesNew Delhi: In highest single-day spike in Coronavirus infections, Delhi yesterday logged 17,000 fresh cases, almost double the 9925 Covid cases registered in Mumbai. Further, a total of 104 people succumbed to the disease within 24 hours in Delhi– the highest in three months. Delhi Chief Minister Arvind Kejriwal will today discuss the coronavirus situation in the city with Lieutenant Governor Anil Baijal, the CM’s office had said. Meanwhile, the Rajasthan Government has announced a curfew from 6 PM to 6 AM. The Ashok Gehlot-led government had initially decided to implement the curfew from 8 pm to 6 am. In another news, the Election Commission has called all-party meeting in Kolkata on Friday to discuss how the poll campaigns should be conducted amid the worsening Coronavirus situation. According to the sources, the Election Commission is likely to club the remaining phases (5,6,7,8) of West Bengal Election 2021 into 1. Stay tuned to india.com for the latest updates on Coronavirus situation in India. Also Read - Maharashtra Comes Under Curfew-Like Curbs, Over 2 Lakh Cops Deployed To Enforce Restrictions\n",
            "UP Gram Panchayat Election 2021 Live: 11% Polling Recorded In Jaunpur District Till 9 AMUP Gram Panchayat Elections 2021 News Updates: Polling for the first of the four-phase Uttar Pradesh Gram Panchayat Elections 2021 started at 7 AM in 18 districts with ballot papers. This time, more than 3.33 lakh candidates in the fray in over 2.21 lakh seats in the first phase for the posts of zila panchayat (district council) members, kshetra (block) panchayat members, village panchayat heads and wards. Also Read - Ghaziabad: Containment Zones Go up From 233 to 321 Within a Day Amid Spike in Coronavirus Cases | Check Full List Here\n",
            "Hospitals in Mumbai Asked to Use 5-Star Hotels To Treat Patients With Mild SymptomsMumbai: With the number of cases rising and COVID beds falling short for patients, authorities in Mumbai said they will use five-star hotels to treat corona patients with mild infection. “It is being seen that many beds in private hospitals are occupied by patients who do not require emergency medical intervention, such patients can be effectively and adequately managed at isolation facilities such as step-down facilities,” a notice of the public health department said. Also Read - Rows Of Burning Pyres In Lucknow Showcase Corona Tragedy\n",
            "Time For Quick Restrictive Lockdown, Says Dr Naresh Trehan As Covid Cases Rise SharplyNew Delhi: As India experiences a second wave of coronavirus, the health system in the country is beginning to crumble and the overwhelming surge in Covid-19 cases, has left hospital infrastructure overburdened. Many reports have surfaced wherein severely ill Covid-19 patients have either died or are getting treated in ambulances because of lack of beds in the hospitals. Hospitals in major cities are staring at a bed crisis with most of them underscoring that their critical care units are all occupied. Meanwhile, leading doctors feel that the second wave of the Covid-19 pandemic urgently requires an extraordinary response. With many hospitals running out of beds, doctors feel that it’s time for a restrictive lockdown, to deal with the looming crisis. Also Read - COVID-19: Consider Complete Lockdown in Worst-Affected Districts, Allahabad HC Tells UP Govt\n"
          ],
          "name": "stdout"
        }
      ]
    },
    {
      "cell_type": "code",
      "metadata": {
        "colab": {
          "base_uri": "https://localhost:8080/"
        },
        "id": "nyGk-4VpnpuP",
        "outputId": "c1739eb8-d19d-49f4-a365-afc19544a6d3"
      },
      "source": [
        "scrapped_articles = crawl_news('https://www.india.com/news/india/')"
      ],
      "execution_count": null,
      "outputs": [
        {
          "output_type": "stream",
          "text": [
            "Crawling news and creating objects in database ..\n"
          ],
          "name": "stdout"
        }
      ]
    },
    {
      "cell_type": "code",
      "metadata": {
        "colab": {
          "base_uri": "https://localhost:8080/"
        },
        "id": "bivdVRRgpLRY",
        "outputId": "e449a685-77ba-45ec-de9d-2a5bcbcf310b"
      },
      "source": [
        "scrapped_articles"
      ],
      "execution_count": null,
      "outputs": [
        {
          "output_type": "execute_result",
          "data": {
            "text/plain": [
              "['West Bengal Assembly Election 2021: 78.36% Voter Turnout Recorded Till 5:45 PM | HighlightsWest Bengal Assembly Election 2021 Updates: Amid tight security and high-voltage campaigning, the fifth phase of polling in West Bengal for votes in 45 assembly seats in six districts – North 24 Parganas, Purba Bardhaman, Nadia, Jalpaiguri, Darjeeling and Kalimpong – was held today. A total of 319 candidates – of which 39 are women – are set to battle as more than half of the total 294 seats in Bengal is sealed by end of the day. A key phase for both, Trinamool Congress and the BJP, several key ministers including TMC’s Gautam Deb, Bratya Basu, BJP’s Jagannath Sarkar and Samik Bhattacharya are contesting in today’s constituencies. Polling in West Bengal is being conducted in eight phases, of which, 4 phases with 135 seats have already been completed. Counting of votes and results to the 294 Vidhan Sabha seats and 126-member Assam Legislative Assembly in West Bengal will be declared on May 2, 2021. Stay tuned to this live blog for all the latest updates. Also Read - EC Curtails Campaign Timing Up To 7 PM, Extends Silence Period As COVID Cases Soar In Bengal',\n",
              " 'Remdesivir Price Capped by Govt | Check Revised Rates of Major BrandsNew Delhi: In a big relief, pharmaceutical companies have reduced the price of Remdesivir injection by Rs 2,000 following the government’s intervention. This step was taken by the government to enhance the availability and affordability of Remdesivir injection. Notably, the antiviral drug is used in the treatment of COVID-19. The anti-viral drug will now be sold for as less as Rs 899. Drug companies like Cadila Healthcare, Dr Reddy’s Laboratories and Cipla have cut the prices of their respective brands of remdesivir injection (100 mg/vial). Check new prices below: Also Read - Delhi Facing Shortage of Oxygen, Remdesivir & ICU Beds: Kejriwal as City Registers 24k Covid Cases in 24 Hours',\n",
              " 'Coronavirus in India LIVE Updates: Maharashtra Reports 67,123 Fresh COVID cases, 419 DeathsCoronavirus News Live Updates April 17, 2021: As India is reeling under the second wave of coronavirus, a number of states and UTs have imposed lockdown-like restrictions and weekend curfew to bring the pandemic under control. On the other hand, the Union Ministry of Health and Family Welfare said that a total number of COVID-19 vaccine doses administered in the country approached the 12 crore-mark with more than 26.14 lakh doses being given till 8 PM on Friday. The cumulative number of COVID-19 vaccine doses administered in the country stands at 11,97,87,239, according to the report. The second phase of COVID-19 vaccination commenced from March 1 for those over 60 years of age and for people aged 45 and above with specified co-morbid conditions. The development comes as the country records over two lakh new cases for the second straight day. Stay tuned to this Live Blog for all COVID-related updates. Also Read - Remdesivir Price Capped by Govt | Check Revised Rates of Major Brands',\n",
              " 'PM Modi Holds Review Meeting on COVID-19, Vaccination Situation With Top Officials Amid Surge in CasesNew Delhi: Prime Minister Narendra Modi has called a review meeting with top officials over the COVID-19 situation and the ongoing vaccination exercise in the country, government sources said on Saturday. Top officers from various ministries will participate in the meeting scheduled for 8 pm on Saturday. Also Read - Delhi Facing Shortage of Oxygen, Remdesivir & ICU Beds: Kejriwal as City Registers 24k Covid Cases in 24 Hours',\n",
              " \"After PM Modi's Request to Keep Kumbh Mela 'Symbolic', Juna Akhada Calls Off CelebrationsHaridwar: After Prime Minister Narendra Modi appeal that the ongoing Kumbh Mela in Haridwar should now have symbolic participation, Swami Avdheshanand, Chief of Juna Akhada, on Saturday called off celebrations. “The Kumbh Mela is now concluded for Juna Akhara,” Swami Avdheshanand Giri said. PM Narendra Modi had earlier spoken to him, requesting that Kumbh Mela should now only be symbolic, in the wake of the COVID-19 pandemic. Also Read - Kumbh Mela Should be 'Only Symbolic' Now to Curb COVID-19: PM Modi\"]"
            ]
          },
          "metadata": {
            "tags": []
          },
          "execution_count": 6
        }
      ]
    },
    {
      "cell_type": "code",
      "metadata": {
        "id": "G6dxsqagnsZd",
        "colab": {
          "base_uri": "https://localhost:8080/"
        },
        "outputId": "d82198cf-680f-4f98-eb5b-4d0bedcaac80"
      },
      "source": [
        "url = 'http://b30f9477e0e8.ngrok.io/predict?scrapped_news={}'.format(scrapped_articles)\n",
        "print(url)\n",
        "predictions = requests.post('http://b30f9477e0e8.ngrok.io/predict?scrapped_news={}'.format(scrapped_articles))\n"
      ],
      "execution_count": null,
      "outputs": [
        {
          "output_type": "stream",
          "text": [
            "http://b30f9477e0e8.ngrok.io/predict?scrapped_news=['West Bengal Assembly Election 2021: 78.36% Voter Turnout Recorded Till 5:45 PM | HighlightsWest Bengal Assembly Election 2021 Updates: Amid tight security and high-voltage campaigning, the fifth phase of polling in West Bengal for votes in 45 assembly seats in six districts – North 24 Parganas, Purba Bardhaman, Nadia, Jalpaiguri, Darjeeling and Kalimpong – was held today. A total of 319 candidates – of which 39 are women – are set to battle as more than half of the total 294 seats in Bengal is sealed by end of the day. A key phase for both, Trinamool Congress and the BJP, several key ministers including TMC’s Gautam Deb, Bratya Basu, BJP’s Jagannath Sarkar and Samik Bhattacharya are contesting in today’s constituencies. Polling in West Bengal is being conducted in eight phases, of which, 4 phases with 135 seats have already been completed. Counting of votes and results to the 294 Vidhan Sabha seats and 126-member Assam Legislative Assembly in West Bengal will be declared on May 2, 2021. Stay tuned to this live blog for all the latest updates. Also Read - EC Curtails Campaign Timing Up To 7 PM, Extends Silence Period As COVID Cases Soar In Bengal', 'Remdesivir Price Capped by Govt | Check Revised Rates of Major BrandsNew Delhi: In a big relief, pharmaceutical companies have reduced the price of Remdesivir injection by Rs 2,000 following the government’s intervention. This step was taken by the government to enhance the availability and affordability of Remdesivir injection. Notably, the antiviral drug is used in the treatment of COVID-19. The anti-viral drug will now be sold for as less as Rs 899. Drug companies like Cadila Healthcare, Dr Reddy’s Laboratories and Cipla have cut the prices of their respective brands of remdesivir injection (100 mg/vial). Check new prices below: Also Read - Delhi Facing Shortage of Oxygen, Remdesivir & ICU Beds: Kejriwal as City Registers 24k Covid Cases in 24 Hours', 'Coronavirus in India LIVE Updates: Maharashtra Reports 67,123 Fresh COVID cases, 419 DeathsCoronavirus News Live Updates April 17, 2021: As India is reeling under the second wave of coronavirus, a number of states and UTs have imposed lockdown-like restrictions and weekend curfew to bring the pandemic under control. On the other hand, the Union Ministry of Health and Family Welfare said that a total number of COVID-19 vaccine doses administered in the country approached the 12 crore-mark with more than 26.14 lakh doses being given till 8 PM on Friday. The cumulative number of COVID-19 vaccine doses administered in the country stands at 11,97,87,239, according to the report. The second phase of COVID-19 vaccination commenced from March 1 for those over 60 years of age and for people aged 45 and above with specified co-morbid conditions. The development comes as the country records over two lakh new cases for the second straight day. Stay tuned to this Live Blog for all COVID-related updates. Also Read - Remdesivir Price Capped by Govt | Check Revised Rates of Major Brands', 'PM Modi Holds Review Meeting on COVID-19, Vaccination Situation With Top Officials Amid Surge in CasesNew Delhi: Prime Minister Narendra Modi has called a review meeting with top officials over the COVID-19 situation and the ongoing vaccination exercise in the country, government sources said on Saturday. Top officers from various ministries will participate in the meeting scheduled for 8 pm on Saturday. Also Read - Delhi Facing Shortage of Oxygen, Remdesivir & ICU Beds: Kejriwal as City Registers 24k Covid Cases in 24 Hours', \"After PM Modi's Request to Keep Kumbh Mela 'Symbolic', Juna Akhada Calls Off CelebrationsHaridwar: After Prime Minister Narendra Modi appeal that the ongoing Kumbh Mela in Haridwar should now have symbolic participation, Swami Avdheshanand, Chief of Juna Akhada, on Saturday called off celebrations. “The Kumbh Mela is now concluded for Juna Akhara,” Swami Avdheshanand Giri said. PM Narendra Modi had earlier spoken to him, requesting that Kumbh Mela should now only be symbolic, in the wake of the COVID-19 pandemic. Also Read - Kumbh Mela Should be 'Only Symbolic' Now to Curb COVID-19: PM Modi\"]\n"
          ],
          "name": "stdout"
        }
      ]
    },
    {
      "cell_type": "code",
      "metadata": {
        "colab": {
          "base_uri": "https://localhost:8080/"
        },
        "id": "WJ3Z2kJ0of89",
        "outputId": "d7b77a09-deb2-4ec4-f5f3-994f4e74e8b0"
      },
      "source": [
        "predictions\n"
      ],
      "execution_count": null,
      "outputs": [
        {
          "output_type": "execute_result",
          "data": {
            "text/plain": [
              "<Response [404]>"
            ]
          },
          "metadata": {
            "tags": []
          },
          "execution_count": 15
        }
      ]
    }
  ]
}